{
  "nbformat": 4,
  "nbformat_minor": 0,
  "metadata": {
    "colab": {
      "provenance": []
    },
    "kernelspec": {
      "name": "python3",
      "display_name": "Python 3"
    },
    "language_info": {
      "name": "python"
    }
  },
  "cells": [
    {
      "cell_type": "code",
      "execution_count": 1,
      "metadata": {
        "colab": {
          "base_uri": "https://localhost:8080/"
        },
        "id": "GxYV2K3HN5mN",
        "outputId": "7410dd71-631c-400d-f0df-93a32e5fff4b"
      },
      "outputs": [
        {
          "output_type": "stream",
          "name": "stdout",
          "text": [
            "Collecting pydub\n",
            "  Downloading pydub-0.25.1-py2.py3-none-any.whl.metadata (1.4 kB)\n",
            "Downloading pydub-0.25.1-py2.py3-none-any.whl (32 kB)\n",
            "Installing collected packages: pydub\n",
            "Successfully installed pydub-0.25.1\n"
          ]
        }
      ],
      "source": [
        "!pip install pydub\n",
        "from pydub import AudioSegment\n",
        "from pydub.silence import split_on_silence"
      ]
    },
    {
      "cell_type": "code",
      "source": [
        "class AudioSpeechToText:\n",
        "\n",
        "\tMIN_SILENCE_LENGTH = 100\n",
        "\tSILENCE_THRESHOLD = -35\n",
        "\tKEEP_SILENCE = 50\n",
        "\n",
        "\tdef audio_silence(self, audio_url, file_type):\n",
        "\t\taudio = AudioSegment.from_file(audio_url, format=file_type)\n",
        "\t\tchunks = split_on_silence(audio,\n",
        "      min_silence_len=AudioSpeechToText.MIN_SILENCE_LENGTH,\n",
        "      silence_thresh=AudioSpeechToText.SILENCE_THRESHOLD,\n",
        "      keep_silence=AudioSpeechToText.KEEP_SILENCE\n",
        "    )\n",
        "\n",
        "\t\toutput = sum(chunks)\n",
        "\t\toutput.export(\"/content/output.mp3\", format=\"mp3\")"
      ],
      "metadata": {
        "id": "2sFsLesZN7iP"
      },
      "execution_count": 3,
      "outputs": []
    },
    {
      "cell_type": "code",
      "source": [
        "audio_processor = AudioSpeechToText()\n",
        "audio_processor.audio_silence(\"/content/tempo-de-aprender.mp3\", \"mp3\")"
      ],
      "metadata": {
        "id": "pomCFdGUN8Fy"
      },
      "execution_count": 4,
      "outputs": []
    },
    {
      "cell_type": "code",
      "source": [],
      "metadata": {
        "id": "JyW44FwnPbhA"
      },
      "execution_count": null,
      "outputs": []
    },
    {
      "cell_type": "code",
      "source": [],
      "metadata": {
        "id": "KYLpvZZ8Pb57"
      },
      "execution_count": null,
      "outputs": []
    }
  ]
}